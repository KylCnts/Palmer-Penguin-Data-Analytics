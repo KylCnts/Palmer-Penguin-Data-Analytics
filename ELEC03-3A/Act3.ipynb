{
 "cells": [
  {
   "cell_type": "markdown",
   "id": "80a19db4-a71e-4a6b-af86-9241d52348c4",
   "metadata": {},
   "source": [
    "<h1>UK ROAD ACCIDENT ACTIVITY</h1>\n",
    "<hr>\n",
    "<h3>DATA ANALYST: KYLA MAE A. CANTOS | BSIT 3A</h3>"
   ]
  },
  {
   "cell_type": "code",
   "execution_count": 1,
   "id": "5e528238-0188-4ebe-8df1-87a8d7bd7e3e",
   "metadata": {},
   "outputs": [],
   "source": [
    "import numpy as np\n",
    "import pandas as pd\n",
    "import warnings \n",
    "warnings.filterwarnings(\"ignore\")"
   ]
  },
  {
   "cell_type": "code",
   "execution_count": 2,
   "id": "3565b63c-9580-4ecc-b54f-d9cac11ee659",
   "metadata": {},
   "outputs": [
    {
     "data": {
      "text/html": [
       "<div>\n",
       "<style scoped>\n",
       "    .dataframe tbody tr th:only-of-type {\n",
       "        vertical-align: middle;\n",
       "    }\n",
       "\n",
       "    .dataframe tbody tr th {\n",
       "        vertical-align: top;\n",
       "    }\n",
       "\n",
       "    .dataframe thead th {\n",
       "        text-align: right;\n",
       "    }\n",
       "</style>\n",
       "<table border=\"1\" class=\"dataframe\">\n",
       "  <thead>\n",
       "    <tr style=\"text-align: right;\">\n",
       "      <th></th>\n",
       "      <th>Index</th>\n",
       "      <th>Accident_Severity</th>\n",
       "      <th>Accident Date</th>\n",
       "      <th>Latitude</th>\n",
       "      <th>Light_Conditions</th>\n",
       "      <th>District Area</th>\n",
       "      <th>Longitude</th>\n",
       "      <th>Number_of_Casualties</th>\n",
       "      <th>Number_of_Vehicles</th>\n",
       "      <th>Road_Surface_Conditions</th>\n",
       "      <th>Road_Type</th>\n",
       "      <th>Urban_or_Rural_Area</th>\n",
       "      <th>Weather_Conditions</th>\n",
       "      <th>Vehicle_Type</th>\n",
       "    </tr>\n",
       "  </thead>\n",
       "  <tbody>\n",
       "    <tr>\n",
       "      <th>0</th>\n",
       "      <td>200701BS64157</td>\n",
       "      <td>Serious</td>\n",
       "      <td>5/6/2019</td>\n",
       "      <td>51.506187</td>\n",
       "      <td>Darkness - lights lit</td>\n",
       "      <td>Kensington and Chelsea</td>\n",
       "      <td>-0.209082</td>\n",
       "      <td>1</td>\n",
       "      <td>2</td>\n",
       "      <td>Dry</td>\n",
       "      <td>Single carriageway</td>\n",
       "      <td>Urban</td>\n",
       "      <td>Fine no high winds</td>\n",
       "      <td>Car</td>\n",
       "    </tr>\n",
       "    <tr>\n",
       "      <th>1</th>\n",
       "      <td>200701BS65737</td>\n",
       "      <td>Serious</td>\n",
       "      <td>2/7/2019</td>\n",
       "      <td>51.495029</td>\n",
       "      <td>Daylight</td>\n",
       "      <td>Kensington and Chelsea</td>\n",
       "      <td>-0.173647</td>\n",
       "      <td>1</td>\n",
       "      <td>2</td>\n",
       "      <td>Wet or damp</td>\n",
       "      <td>Single carriageway</td>\n",
       "      <td>Urban</td>\n",
       "      <td>Raining no high winds</td>\n",
       "      <td>Car</td>\n",
       "    </tr>\n",
       "    <tr>\n",
       "      <th>2</th>\n",
       "      <td>200701BS66127</td>\n",
       "      <td>Serious</td>\n",
       "      <td>26-08-2019</td>\n",
       "      <td>51.517715</td>\n",
       "      <td>Darkness - lighting unknown</td>\n",
       "      <td>Kensington and Chelsea</td>\n",
       "      <td>-0.210215</td>\n",
       "      <td>1</td>\n",
       "      <td>3</td>\n",
       "      <td>Dry</td>\n",
       "      <td>NaN</td>\n",
       "      <td>Urban</td>\n",
       "      <td>NaN</td>\n",
       "      <td>Taxi/Private hire car</td>\n",
       "    </tr>\n",
       "    <tr>\n",
       "      <th>3</th>\n",
       "      <td>200701BS66128</td>\n",
       "      <td>Serious</td>\n",
       "      <td>16-08-2019</td>\n",
       "      <td>51.495478</td>\n",
       "      <td>Daylight</td>\n",
       "      <td>Kensington and Chelsea</td>\n",
       "      <td>-0.202731</td>\n",
       "      <td>1</td>\n",
       "      <td>4</td>\n",
       "      <td>Dry</td>\n",
       "      <td>Single carriageway</td>\n",
       "      <td>Urban</td>\n",
       "      <td>Fine no high winds</td>\n",
       "      <td>Bus or coach (17 or more pass seats)</td>\n",
       "    </tr>\n",
       "    <tr>\n",
       "      <th>4</th>\n",
       "      <td>200701BS66837</td>\n",
       "      <td>Slight</td>\n",
       "      <td>3/9/2019</td>\n",
       "      <td>51.488576</td>\n",
       "      <td>Darkness - lights lit</td>\n",
       "      <td>Kensington and Chelsea</td>\n",
       "      <td>-0.192487</td>\n",
       "      <td>1</td>\n",
       "      <td>2</td>\n",
       "      <td>Dry</td>\n",
       "      <td>NaN</td>\n",
       "      <td>Urban</td>\n",
       "      <td>NaN</td>\n",
       "      <td>Other vehicle</td>\n",
       "    </tr>\n",
       "    <tr>\n",
       "      <th>...</th>\n",
       "      <td>...</td>\n",
       "      <td>...</td>\n",
       "      <td>...</td>\n",
       "      <td>...</td>\n",
       "      <td>...</td>\n",
       "      <td>...</td>\n",
       "      <td>...</td>\n",
       "      <td>...</td>\n",
       "      <td>...</td>\n",
       "      <td>...</td>\n",
       "      <td>...</td>\n",
       "      <td>...</td>\n",
       "      <td>...</td>\n",
       "      <td>...</td>\n",
       "    </tr>\n",
       "    <tr>\n",
       "      <th>660674</th>\n",
       "      <td>201091NM01760</td>\n",
       "      <td>Slight</td>\n",
       "      <td>18-02-2022</td>\n",
       "      <td>57.374005</td>\n",
       "      <td>Daylight</td>\n",
       "      <td>Highland</td>\n",
       "      <td>-3.467828</td>\n",
       "      <td>2</td>\n",
       "      <td>1</td>\n",
       "      <td>Dry</td>\n",
       "      <td>Single carriageway</td>\n",
       "      <td>Rural</td>\n",
       "      <td>Fine no high winds</td>\n",
       "      <td>Car</td>\n",
       "    </tr>\n",
       "    <tr>\n",
       "      <th>660675</th>\n",
       "      <td>201091NM01881</td>\n",
       "      <td>Slight</td>\n",
       "      <td>21-02-2022</td>\n",
       "      <td>57.232273</td>\n",
       "      <td>Darkness - no lighting</td>\n",
       "      <td>Highland</td>\n",
       "      <td>-3.809281</td>\n",
       "      <td>1</td>\n",
       "      <td>1</td>\n",
       "      <td>Frost or ice</td>\n",
       "      <td>Single carriageway</td>\n",
       "      <td>Rural</td>\n",
       "      <td>Fine no high winds</td>\n",
       "      <td>Car</td>\n",
       "    </tr>\n",
       "    <tr>\n",
       "      <th>660676</th>\n",
       "      <td>201091NM01935</td>\n",
       "      <td>Slight</td>\n",
       "      <td>23-02-2022</td>\n",
       "      <td>57.585044</td>\n",
       "      <td>Daylight</td>\n",
       "      <td>Highland</td>\n",
       "      <td>-3.862727</td>\n",
       "      <td>1</td>\n",
       "      <td>3</td>\n",
       "      <td>Frost or ice</td>\n",
       "      <td>Single carriageway</td>\n",
       "      <td>Rural</td>\n",
       "      <td>Fine no high winds</td>\n",
       "      <td>Car</td>\n",
       "    </tr>\n",
       "    <tr>\n",
       "      <th>660677</th>\n",
       "      <td>201091NM01964</td>\n",
       "      <td>Serious</td>\n",
       "      <td>23-02-2022</td>\n",
       "      <td>57.214898</td>\n",
       "      <td>Darkness - no lighting</td>\n",
       "      <td>Highland</td>\n",
       "      <td>-3.823997</td>\n",
       "      <td>1</td>\n",
       "      <td>2</td>\n",
       "      <td>Wet or damp</td>\n",
       "      <td>Single carriageway</td>\n",
       "      <td>Rural</td>\n",
       "      <td>Fine no high winds</td>\n",
       "      <td>Motorcycle over 500cc</td>\n",
       "    </tr>\n",
       "    <tr>\n",
       "      <th>660678</th>\n",
       "      <td>201091NM02142</td>\n",
       "      <td>Serious</td>\n",
       "      <td>28-02-2022</td>\n",
       "      <td>57.575210</td>\n",
       "      <td>Daylight</td>\n",
       "      <td>Highland</td>\n",
       "      <td>-3.895673</td>\n",
       "      <td>1</td>\n",
       "      <td>1</td>\n",
       "      <td>Wet or damp</td>\n",
       "      <td>Dual carriageway</td>\n",
       "      <td>Rural</td>\n",
       "      <td>Snowing no high winds</td>\n",
       "      <td>Car</td>\n",
       "    </tr>\n",
       "  </tbody>\n",
       "</table>\n",
       "<p>660679 rows × 14 columns</p>\n",
       "</div>"
      ],
      "text/plain": [
       "                Index Accident_Severity Accident Date   Latitude  \\\n",
       "0       200701BS64157           Serious      5/6/2019  51.506187   \n",
       "1       200701BS65737           Serious      2/7/2019  51.495029   \n",
       "2       200701BS66127           Serious    26-08-2019  51.517715   \n",
       "3       200701BS66128           Serious    16-08-2019  51.495478   \n",
       "4       200701BS66837            Slight      3/9/2019  51.488576   \n",
       "...               ...               ...           ...        ...   \n",
       "660674  201091NM01760            Slight    18-02-2022  57.374005   \n",
       "660675  201091NM01881            Slight    21-02-2022  57.232273   \n",
       "660676  201091NM01935            Slight    23-02-2022  57.585044   \n",
       "660677  201091NM01964           Serious    23-02-2022  57.214898   \n",
       "660678  201091NM02142           Serious    28-02-2022  57.575210   \n",
       "\n",
       "                   Light_Conditions           District Area  Longitude  \\\n",
       "0             Darkness - lights lit  Kensington and Chelsea  -0.209082   \n",
       "1                          Daylight  Kensington and Chelsea  -0.173647   \n",
       "2       Darkness - lighting unknown  Kensington and Chelsea  -0.210215   \n",
       "3                          Daylight  Kensington and Chelsea  -0.202731   \n",
       "4             Darkness - lights lit  Kensington and Chelsea  -0.192487   \n",
       "...                             ...                     ...        ...   \n",
       "660674                     Daylight                Highland  -3.467828   \n",
       "660675       Darkness - no lighting                Highland  -3.809281   \n",
       "660676                     Daylight                Highland  -3.862727   \n",
       "660677       Darkness - no lighting                Highland  -3.823997   \n",
       "660678                     Daylight                Highland  -3.895673   \n",
       "\n",
       "        Number_of_Casualties  Number_of_Vehicles Road_Surface_Conditions  \\\n",
       "0                          1                   2                     Dry   \n",
       "1                          1                   2             Wet or damp   \n",
       "2                          1                   3                     Dry   \n",
       "3                          1                   4                     Dry   \n",
       "4                          1                   2                     Dry   \n",
       "...                      ...                 ...                     ...   \n",
       "660674                     2                   1                     Dry   \n",
       "660675                     1                   1            Frost or ice   \n",
       "660676                     1                   3            Frost or ice   \n",
       "660677                     1                   2             Wet or damp   \n",
       "660678                     1                   1             Wet or damp   \n",
       "\n",
       "                 Road_Type Urban_or_Rural_Area     Weather_Conditions  \\\n",
       "0       Single carriageway               Urban     Fine no high winds   \n",
       "1       Single carriageway               Urban  Raining no high winds   \n",
       "2                      NaN               Urban                    NaN   \n",
       "3       Single carriageway               Urban     Fine no high winds   \n",
       "4                      NaN               Urban                    NaN   \n",
       "...                    ...                 ...                    ...   \n",
       "660674  Single carriageway               Rural     Fine no high winds   \n",
       "660675  Single carriageway               Rural     Fine no high winds   \n",
       "660676  Single carriageway               Rural     Fine no high winds   \n",
       "660677  Single carriageway               Rural     Fine no high winds   \n",
       "660678    Dual carriageway               Rural  Snowing no high winds   \n",
       "\n",
       "                                Vehicle_Type  \n",
       "0                                        Car  \n",
       "1                                        Car  \n",
       "2                      Taxi/Private hire car  \n",
       "3       Bus or coach (17 or more pass seats)  \n",
       "4                              Other vehicle  \n",
       "...                                      ...  \n",
       "660674                                   Car  \n",
       "660675                                   Car  \n",
       "660676                                   Car  \n",
       "660677                 Motorcycle over 500cc  \n",
       "660678                                   Car  \n",
       "\n",
       "[660679 rows x 14 columns]"
      ]
     },
     "execution_count": 2,
     "metadata": {},
     "output_type": "execute_result"
    }
   ],
   "source": [
    "accident = pd.read_csv('datasets//uk_road_accident.csv')\n",
    "accident"
   ]
  },
  {
   "cell_type": "markdown",
   "id": "9aa692f8-d663-446a-99ee-420fc87472f4",
   "metadata": {},
   "source": [
    "<h1>1. What is the distribution of accident severities?</h1>"
   ]
  },
  {
   "cell_type": "code",
   "execution_count": 3,
   "id": "24c89ea7-65c9-488c-9b89-b2342e8ad548",
   "metadata": {},
   "outputs": [
    {
     "data": {
      "text/plain": [
       "Accident_Severity\n",
       "Slight     563801\n",
       "Serious     88217\n",
       "Fatal        8661\n",
       "Name: count, dtype: int64"
      ]
     },
     "execution_count": 3,
     "metadata": {},
     "output_type": "execute_result"
    }
   ],
   "source": [
    "AcciSeverity = accident['Accident_Severity'].value_counts()\n",
    "AcciSeverity"
   ]
  },
  {
   "cell_type": "markdown",
   "id": "acb6360f-a166-4c9c-b78a-4d08d083314d",
   "metadata": {},
   "source": [
    "<h1>Insight # 1. You can see it shows the frequency of each severity level</h1>"
   ]
  },
  {
   "cell_type": "code",
   "execution_count": 4,
   "id": "19e5dd84-2361-466e-a609-a271153d468c",
   "metadata": {},
   "outputs": [],
   "source": [
    "accident['Accident Date'] = pd.to_datetime(accident['Accident Date'], dayfirst = True, errors = 'coerce')"
   ]
  },
  {
   "cell_type": "markdown",
   "id": "117a7eb2-ec90-45f8-be36-7eb1bbd35324",
   "metadata": {},
   "source": [
    "<h1>2. Which day of the week has the highest number of accidents?</h1>"
   ]
  },
  {
   "cell_type": "code",
   "execution_count": 5,
   "id": "3895977a-fccc-4cdc-b4f2-9c23d47a5ab3",
   "metadata": {},
   "outputs": [
    {
     "data": {
      "text/plain": [
       "DayOfWeek\n",
       "5.0    43164\n",
       "2.0    40037\n",
       "4.0    39822\n",
       "3.0    39641\n",
       "1.0    38714\n",
       "6.0    35065\n",
       "0.0    28564\n",
       "Name: count, dtype: int64"
      ]
     },
     "execution_count": 5,
     "metadata": {},
     "output_type": "execute_result"
    }
   ],
   "source": [
    "accident['DayOfWeek'] = accident['Accident Date'].dt.dayofweek\n",
    "day_counts = accident['DayOfWeek'].value_counts()\n",
    "day_counts"
   ]
  },
  {
   "cell_type": "markdown",
   "id": "a42d3e3f-55fa-4e32-aeb2-49dfdf882d40",
   "metadata": {},
   "source": [
    "<h1>Insight # 2. It identifies the 5th day is with the most accidents.</h1>"
   ]
  },
  {
   "cell_type": "markdown",
   "id": "a46984ea-c9cd-4c3e-a40c-766f9c5c4d05",
   "metadata": {},
   "source": [
    "<h1>3. What is the average number of vehicles involved in accidents?</h1>"
   ]
  },
  {
   "cell_type": "code",
   "execution_count": 6,
   "id": "00cc9286-8e76-4551-93e8-065fb1e6f6e1",
   "metadata": {},
   "outputs": [
    {
     "data": {
      "text/plain": [
       "np.float64(1.8312554205597575)"
      ]
     },
     "execution_count": 6,
     "metadata": {},
     "output_type": "execute_result"
    }
   ],
   "source": [
    "avg_vehicles = accident['Number_of_Vehicles'].mean()\n",
    "avg_vehicles"
   ]
  },
  {
   "cell_type": "markdown",
   "id": "eb8a4887-016e-4db9-b02d-862df4bd31e7",
   "metadata": {},
   "source": [
    "<h1>Insight # 3. 1.8 is the averagae vehicle count per accident.</h1>"
   ]
  },
  {
   "cell_type": "markdown",
   "id": "beb61280-b0dc-4567-b1ff-17e0cf0938f9",
   "metadata": {},
   "source": [
    "<h1>4. What are the most common types of vehicles involved in accidents?</h1>"
   ]
  },
  {
   "cell_type": "code",
   "execution_count": 7,
   "id": "fcb9001e-9e01-45df-8e61-ff6fee7ca0ad",
   "metadata": {},
   "outputs": [
    {
     "data": {
      "text/plain": [
       "Vehicle_Type\n",
       "Car                                      497992\n",
       "Van / Goods 3.5 tonnes mgw or under       34160\n",
       "Bus or coach (17 or more pass seats)      25878\n",
       "Motorcycle over 500cc                     25657\n",
       "Goods 7.5 tonnes mgw and over             17307\n",
       "Motorcycle 125cc and under                15269\n",
       "Taxi/Private hire car                     13294\n",
       "Motorcycle over 125cc and up to 500cc      7656\n",
       "Motorcycle 50cc and under                  7603\n",
       "Goods over 3.5t. and under 7.5t            6096\n",
       "Other vehicle                              5637\n",
       "Minibus (8 - 16 passenger seats)           1976\n",
       "Agricultural vehicle                       1947\n",
       "Pedal cycle                                 197\n",
       "Data missing or out of range                  6\n",
       "Ridden horse                                  4\n",
       "Name: count, dtype: int64"
      ]
     },
     "execution_count": 7,
     "metadata": {},
     "output_type": "execute_result"
    }
   ],
   "source": [
    "vehivle_type = accident['Vehicle_Type'].value_counts()\n",
    "vehivle_type"
   ]
  },
  {
   "cell_type": "markdown",
   "id": "ab6f96f7-0276-46be-85b7-ad446db23477",
   "metadata": {},
   "source": [
    "<h1>Insight # 4. In the lists, car is the most frequent vehicle types in accidents.</h1>"
   ]
  },
  {
   "cell_type": "markdown",
   "id": "e97fcffa-7235-40c8-9f4c-fb7ae1969a62",
   "metadata": {},
   "source": [
    "<h1>5. Are there specific road conditions that are more prone to accidents?</h1>"
   ]
  },
  {
   "cell_type": "code",
   "execution_count": 8,
   "id": "72ba76a9-96cc-4477-843c-df00a11737dc",
   "metadata": {},
   "outputs": [
    {
     "data": {
      "text/plain": [
       "Road_Surface_Conditions\n",
       "Dry                     447821\n",
       "Wet or damp             186708\n",
       "Frost or ice             18517\n",
       "Snow                      5890\n",
       "Flood over 3cm. deep      1017\n",
       "Name: count, dtype: int64"
      ]
     },
     "execution_count": 8,
     "metadata": {},
     "output_type": "execute_result"
    }
   ],
   "source": [
    "road_condition = accident['Road_Surface_Conditions'].value_counts()\n",
    "road_condition"
   ]
  },
  {
   "cell_type": "markdown",
   "id": "6f36c4e2-3ceb-4f8f-8f39-994455e25739",
   "metadata": {},
   "source": [
    "<h1>Insight 5. It shows dry road condition are the most prone to accidents.</h1>"
   ]
  },
  {
   "cell_type": "markdown",
   "id": "e599b82b-7b7d-487a-8a85-0aa6485f499a",
   "metadata": {},
   "source": [
    "<h1>6. Is there a trend in the number of accidents over the years?</h1>"
   ]
  },
  {
   "cell_type": "code",
   "execution_count": 9,
   "id": "3fe3f493-6e93-4dea-a103-e5427f54282d",
   "metadata": {},
   "outputs": [
    {
     "data": {
      "text/plain": [
       "Year\n",
       "2019.0    71867\n",
       "2020.0    70163\n",
       "2021.0    66172\n",
       "2022.0    56805\n",
       "Name: count, dtype: int64"
      ]
     },
     "execution_count": 9,
     "metadata": {},
     "output_type": "execute_result"
    }
   ],
   "source": [
    "accident['Year'] = accident['Accident Date'].dt.year\n",
    "year = accident['Year'].value_counts()\n",
    "year"
   ]
  },
  {
   "cell_type": "markdown",
   "id": "f1e1ed36-a3a8-48bf-a9f2-2b593e57a36d",
   "metadata": {},
   "source": [
    "<h1>Insight # 6. It displays the number of accidents per year.</h1>"
   ]
  },
  {
   "cell_type": "markdown",
   "id": "3b45574e-28d0-4bd7-a2fa-993592b106d4",
   "metadata": {},
   "source": [
    "<h1>7. What is the distribution of the number of casualties per accident?</h1>"
   ]
  },
  {
   "cell_type": "code",
   "execution_count": 10,
   "id": "3d082293-cfdd-44ad-b4e0-d0c019ac6dff",
   "metadata": {},
   "outputs": [
    {
     "data": {
      "text/plain": [
       "Number_of_Casualties\n",
       "1     504041\n",
       "2     107971\n",
       "3      30776\n",
       "4      11156\n",
       "5       4123\n",
       "6       1525\n",
       "7        539\n",
       "8        214\n",
       "9        112\n",
       "10        58\n",
       "11        36\n",
       "13        24\n",
       "12        21\n",
       "14        13\n",
       "15        11\n",
       "17         8\n",
       "19         7\n",
       "16         7\n",
       "18         6\n",
       "22         5\n",
       "21         4\n",
       "29         3\n",
       "40         2\n",
       "28         2\n",
       "24         2\n",
       "27         2\n",
       "42         2\n",
       "25         1\n",
       "32         1\n",
       "68         1\n",
       "45         1\n",
       "62         1\n",
       "47         1\n",
       "48         1\n",
       "26         1\n",
       "43         1\n",
       "Name: count, dtype: int64"
      ]
     },
     "execution_count": 10,
     "metadata": {},
     "output_type": "execute_result"
    }
   ],
   "source": [
    "casualty_distri = accident[\"Number_of_Casualties\"].value_counts()\n",
    "casualty_distri"
   ]
  },
  {
   "cell_type": "markdown",
   "id": "c3537927-ede7-41ad-b413-19d2d15ecce4",
   "metadata": {},
   "source": [
    "<h1>Insight # 7. It shows how many casualties had</h1>"
   ]
  },
  {
   "cell_type": "markdown",
   "id": "6853536d-ff2c-4bf6-8ba2-cb49902f1ffb",
   "metadata": {},
   "source": [
    "<h1>8 How does the number of casualties vary with the number of vehicles involved?</h1>"
   ]
  },
  {
   "cell_type": "code",
   "execution_count": 11,
   "id": "a1cd6edf-a580-47c8-a05a-2118db4638d9",
   "metadata": {},
   "outputs": [
    {
     "data": {
      "text/plain": [
       "np.float64(0.22888886126927557)"
      ]
     },
     "execution_count": 11,
     "metadata": {},
     "output_type": "execute_result"
    }
   ],
   "source": [
    "vehicle_casual = accident['Number_of_Vehicles'].corr(accident['Number_of_Casualties'])\n",
    "vehicle_casual"
   ]
  },
  {
   "cell_type": "markdown",
   "id": "f6c875f9-0133-4859-913b-8abf6fdb31a1",
   "metadata": {},
   "source": [
    "<h1>Insight # 8, It shows 0 little to no correlation. </h1>"
   ]
  },
  {
   "cell_type": "markdown",
   "id": "97170bdd-afbf-4164-aa52-6eda9d457eb0",
   "metadata": {},
   "source": [
    "<h1>9. What is the distribution of accidents across different road types?</h1>"
   ]
  },
  {
   "cell_type": "code",
   "execution_count": 12,
   "id": "3c183736-dacf-4152-b893-44e42746cce5",
   "metadata": {},
   "outputs": [
    {
     "data": {
      "text/plain": [
       "Road_Type\n",
       "Single carriageway    492143\n",
       "Dual carriageway       99424\n",
       "Roundabout             43992\n",
       "One way street         13559\n",
       "Slip road               7041\n",
       "Name: count, dtype: int64"
      ]
     },
     "execution_count": 12,
     "metadata": {},
     "output_type": "execute_result"
    }
   ],
   "source": [
    "Road_type = accident['Road_Type'].value_counts()\n",
    "Road_type"
   ]
  },
  {
   "cell_type": "markdown",
   "id": "93b6c74c-8d00-4a9f-b31f-43929261adce",
   "metadata": {},
   "source": [
    "<h1>Insight # 9. It shows the frequency of accidents for each road type and Single Carriageway has the highest number.</h1>"
   ]
  },
  {
   "cell_type": "markdown",
   "id": "adcd20ed-94da-4b3a-8b98-c95793bf3b87",
   "metadata": {},
   "source": [
    "<h1>10. Which weather condition is the most associated with accidents?</h1>"
   ]
  },
  {
   "cell_type": "code",
   "execution_count": 13,
   "id": "5f702929-bc68-436d-aa7a-ffb39a84e007",
   "metadata": {},
   "outputs": [
    {
     "data": {
      "text/plain": [
       "Weather_Conditions\n",
       "Fine no high winds       520885\n",
       "Raining no high winds     79696\n",
       "Other                     17150\n",
       "Raining + high winds       9615\n",
       "Fine + high winds          8554\n",
       "Snowing no high winds      6238\n",
       "Fog or mist                3528\n",
       "Snowing + high winds        885\n",
       "Name: count, dtype: int64"
      ]
     },
     "execution_count": 13,
     "metadata": {},
     "output_type": "execute_result"
    }
   ],
   "source": [
    "weather = accident['Weather_Conditions'].value_counts()\n",
    "weather"
   ]
  },
  {
   "cell_type": "markdown",
   "id": "835485f7-0dd3-47e9-bcd1-88d240252188",
   "metadata": {},
   "source": [
    "<h1>Insight # 10. You can see the lists of the most frequent weather conditions during accidents and Fine no high winds has the highest number.</h1>"
   ]
  },
  {
   "cell_type": "markdown",
   "id": "1d57fd72-c3ff-45f9-a820-91b9ee5df9db",
   "metadata": {},
   "source": [
    "<h1>11. Which has the highest number between the two, rural or urban?</h1>"
   ]
  },
  {
   "cell_type": "code",
   "execution_count": 14,
   "id": "d1b5f3b3-fa3b-43da-878d-d61e29b82963",
   "metadata": {},
   "outputs": [
    {
     "data": {
      "text/plain": [
       "Urban_or_Rural_Area\n",
       "Urban          421663\n",
       "Rural          238990\n",
       "Unallocated        11\n",
       "Name: count, dtype: int64"
      ]
     },
     "execution_count": 14,
     "metadata": {},
     "output_type": "execute_result"
    }
   ],
   "source": [
    "area = accident['Urban_or_Rural_Area'].value_counts()\n",
    "area"
   ]
  },
  {
   "cell_type": "markdown",
   "id": "4be1b321-9382-479c-8ec5-edd525b92b12",
   "metadata": {},
   "source": [
    "<h1>Insight # 11. It shows that the Urban has the highest rate of accidents.</h1>"
   ]
  },
  {
   "cell_type": "markdown",
   "id": "38fabe30-b914-4042-9e7b-96ccb40f05e8",
   "metadata": {},
   "source": [
    "<h1>12. How are accidents distributed across different light conditions?</h1>"
   ]
  },
  {
   "cell_type": "code",
   "execution_count": 15,
   "id": "3febeb6a-c879-40a2-93d8-b2c393433131",
   "metadata": {},
   "outputs": [
    {
     "data": {
      "text/plain": [
       "Light_Conditions\n",
       "Daylight                       484880\n",
       "Darkness - lights lit          129335\n",
       "Darkness - no lighting          37437\n",
       "Darkness - lighting unknown      6484\n",
       "Darkness - lights unlit          2543\n",
       "Name: count, dtype: int64"
      ]
     },
     "execution_count": 15,
     "metadata": {},
     "output_type": "execute_result"
    }
   ],
   "source": [
    "light_condi = accident['Light_Conditions'].value_counts()\n",
    "light_condi"
   ]
  },
  {
   "cell_type": "markdown",
   "id": "60704d3b-b270-4b97-a2fc-11d6724ab3ea",
   "metadata": {},
   "source": [
    "<h1> Insight # 12.It is shown here that daylight has more frequent accidents.</h1>"
   ]
  },
  {
   "cell_type": "markdown",
   "id": "b2de1b08-771e-4e39-beca-1cea3aca69e6",
   "metadata": {},
   "source": [
    "<h1>13. What specific district areas with higher accident frequencies?</h1>"
   ]
  },
  {
   "cell_type": "code",
   "execution_count": 16,
   "id": "4345927f-9138-49af-a1fa-72520227ebbb",
   "metadata": {},
   "outputs": [
    {
     "data": {
      "text/plain": [
       "array(['Kensington and Chelsea', 'Westminster', 'Richmond upon Thames',\n",
       "       'Hammersmith and Fulham', 'Hounslow', 'Tower Hamlets',\n",
       "       'City of London', 'Southwark', 'Camden', 'Hackney', 'Islington',\n",
       "       'Barnet', 'Brent', 'Haringey', 'Merton', 'Ealing', 'Enfield',\n",
       "       'Greenwich', 'Newham', 'London Airport (Heathrow)', 'Hillingdon',\n",
       "       'Waltham Forest', 'Redbridge', 'Barking and Dagenham', 'Bromley',\n",
       "       'Havering', 'Croydon', 'Lambeth', 'Wandsworth', 'Sutton', 'Bexley',\n",
       "       'Lewisham', 'Harrow', 'Kingston upon Thames', 'Barrow-in-Furness',\n",
       "       'South Lakeland', 'Carlisle', 'Eden', 'Allerdale', 'Copeland',\n",
       "       'Fylde', 'Blackpool', 'Wyre', 'Lancaster', 'Chorley',\n",
       "       'West Lancashire', 'South Ribble', 'Preston',\n",
       "       'Blackburn with Darwen', 'Hyndburn', 'Ribble Valley', 'Burnley',\n",
       "       'Pendle', 'Rossendale', 'Wirral', 'Liverpool', 'Sefton',\n",
       "       'Knowsley', 'St. Helens', 'Manchester', 'Salford', 'Tameside',\n",
       "       'Stockport', 'Bolton', 'Wigan', 'Trafford', 'Bury', 'Rochdale',\n",
       "       'Oldham', 'Chester', 'Vale Royal', 'Halton', 'Warrington',\n",
       "       'Crewe and ntwich', 'Ellesmere Port and Neston', 'Congleton',\n",
       "       'Macclesfield', 'Crewe and Nantwich', 'Blyth Valley', 'Sunderland',\n",
       "       'Gateshead', 'North Tyneside', 'Tynedale', 'Berwick-upon-Tweed',\n",
       "       'Newcastle upon Tyne', 'Castle Morpeth', 'South Tyneside',\n",
       "       'Wansbeck', 'Alnwick', 'Wear Valley', 'Sedgefield', 'Durham',\n",
       "       'Easington', 'Chester-le-Street', 'Derwentside', 'Teesdale',\n",
       "       'Darlington', 'Craven', 'Hambleton', 'Richmondshire', 'York',\n",
       "       'Harrogate', 'Selby', 'Scarborough', 'Ryedale', 'Kirklees',\n",
       "       'Leeds', 'Wakefield', 'Bradford', 'Calderdale', 'Doncaster',\n",
       "       'Barnsley', 'Sheffield', 'Rotherham', 'North East Lincolnshire',\n",
       "       'North Lincolnshire', 'East Riding of Yorkshire',\n",
       "       'Kingston upon Hull, City of', 'Redcar and Cleveland',\n",
       "       'Hartlepool', 'Middlesbrough', 'Stockton-on-Tees', 'Birmingham',\n",
       "       'Wolverhampton', 'Walsall', 'Dudley', 'Sandwell', 'Solihull',\n",
       "       'Coventry', 'Newcastle-under-Lyme', 'Stafford',\n",
       "       'East Staffordshire', 'South Staffordshire', 'Lichfield',\n",
       "       'Stoke-on-Trent', 'Cannock Chase', 'Tamworth',\n",
       "       'Staffordshire Moorlands', 'Malvern Hills', 'Worcester',\n",
       "       'Wychavon', 'Wyre Forest', 'Redditch', 'Bromsgrove',\n",
       "       'Herefordshire, County of', 'Telford and Wrekin',\n",
       "       'South Shropshire', 'Bridgnorth', 'Shrewsbury and Atcham',\n",
       "       'North Shropshire', 'Oswestry', 'Warwick', 'Stratford-upon-Avon',\n",
       "       'Rugby', 'North Warwickshire', 'Nuneaton and Bedworth',\n",
       "       'Amber Valley', 'Erewash', 'Bolsover', 'High Peak',\n",
       "       'Derbyshire Dales', 'North East Derbyshire', 'Chesterfield',\n",
       "       'Derby', 'South Derbyshire', 'Ashfield', 'Mansfield',\n",
       "       'Newark and Sherwood', 'Bassetlaw', 'Gedling', 'Rushcliffe',\n",
       "       'Nottingham', 'Broxtowe', 'South Holland', 'South Kesteven',\n",
       "       'North Kesteven', 'East Lindsey', 'Boston', 'West Lindsey',\n",
       "       'Lincoln', 'Hinckley and Bosworth', 'Harborough', 'Leicester',\n",
       "       'Rutland', 'Charnwood', 'Melton', 'North West Leicestershire',\n",
       "       'Blaby', 'Oadby and Wigston', 'South Northamptonshire',\n",
       "       'Northampton', 'Kettering', 'Corby', 'Daventry',\n",
       "       'East Northamptonshire', 'Wellingborough', 'South Cambridgeshire',\n",
       "       'Fenland', 'Huntingdonshire', 'Peterborough',\n",
       "       'East Cambridgeshire', 'Cambridge', \"King's Lynn and West Norfolk\",\n",
       "       'Norwich', 'Breckland', 'South Norfolk', 'Broadland',\n",
       "       'Great Yarmouth', 'North Norfolk', 'St. Edmundsbury', 'Babergh',\n",
       "       'Mid Suffolk', 'Forest Heath', 'Suffolk Coastal', 'Ipswich',\n",
       "       'Waveney', 'Luton', 'Mid Bedfordshire', 'Bedford',\n",
       "       'South Bedfordshire', 'East Hertfordshire', 'North Hertfordshire',\n",
       "       'Welwyn Hatfield', 'St. Albans', 'Hertsmere', 'Three Rivers',\n",
       "       'Watford', 'Dacorum', 'Broxbourne', 'Stevege', 'Stevenage',\n",
       "       'Epping Forest', 'Brentwood', 'Castle Point', 'Uttlesford',\n",
       "       'Chelmsford', 'Basildon', 'Tendring', 'Colchester', 'Thurrock',\n",
       "       'Braintree', 'Rochford', 'Maldon', 'Southend-on-Sea', 'Harlow',\n",
       "       'Aylesbury Vale', 'Wycombe', 'South Bucks', 'Chiltern', 'Slough',\n",
       "       'Windsor and Maidenhead', 'South Oxfordshire', 'Milton Keynes',\n",
       "       'Cherwell', 'Vale of White Horse', 'West Oxfordshire', 'Oxford',\n",
       "       'Reading', 'West Berkshire', 'Wokingham', 'Bracknell Forest',\n",
       "       'Eastleigh', 'Test Valley', 'Portsmouth', 'Winchester',\n",
       "       'Basingstoke and Deane', 'Southampton', 'Fareham', 'Hart',\n",
       "       'Gosport', 'Havant', 'Isle of Wight', 'East Hampshire', 'Rushmoor',\n",
       "       'New Forest', 'Elmbridge', 'Mole Valley', 'Guildford',\n",
       "       'Spelthorne', 'Epsom and Ewell', 'Runnymede', 'Woking',\n",
       "       'Reigate and Banstead', 'Surrey Heath', 'Waverley', 'Tandridge',\n",
       "       'Medway', 'Thanet', 'Shepway', 'Ashford', 'Maidstone', 'Dover',\n",
       "       'Tunbridge Wells', 'Canterbury', 'Tonbridge and Malling', 'Swale',\n",
       "       'Dartford', 'Sevenoaks', 'Gravesham', 'Brighton and Hove',\n",
       "       'Chichester', 'Rother', 'Lewes', 'Wealden', 'Eastbourne',\n",
       "       'Hastings', 'Crawley', 'Horsham', 'Mid Sussex', 'Arun', 'Adur',\n",
       "       'Worthing', 'Kerrier', 'Restormel', 'Carrick', 'Penwith',\n",
       "       'North Cornwall', 'West Devon', 'Torridge', 'Caradon',\n",
       "       'North Devon', 'Mid Devon', 'Exeter', 'East Devon', 'Teignbridge',\n",
       "       'Plymouth', 'South Hams', 'Torbay', 'Bristol, City of',\n",
       "       'South Somerset', 'Sedgemoor', 'Mendip', 'Taunton Deane',\n",
       "       'South Gloucestershire', 'North Somerset',\n",
       "       'Bath and North East Somerset', 'West Somerset', 'Stroud',\n",
       "       'Tewkesbury', 'Gloucester', 'Cotswold', 'Cheltenham',\n",
       "       'Forest of Dean', 'Salisbury', 'Kennet', 'West Wiltshire',\n",
       "       'North Wiltshire', 'Swindon', 'Bournemouth', 'Poole',\n",
       "       'East Dorset', 'West Dorset', 'Weymouth and Portland',\n",
       "       'Christchurch', 'Purbeck', 'North Dorset', 'Isle of Anglesey',\n",
       "       'Conwy', 'Denbighshire', 'Flintshire', 'Wrexham', 'Gwynedd',\n",
       "       'Monmouthshire', 'Newport', 'Caerphilly', 'Torfaen', 'Blaeu Gwent',\n",
       "       'Blaenau Gwent', 'Merthyr Tydfil', 'The Vale of Glamorgan',\n",
       "       'Cardiff', 'Rhondda, Cynon, Taff', 'Swansea', 'Bridgend',\n",
       "       'Neath Port Talbot', 'Carmarthenshire', 'Ceredigion',\n",
       "       'Pembrokeshire', 'Powys', 'Highland', 'Western Isles',\n",
       "       'Orkney Islands', 'Shetland Islands', 'Aberdeenshire', 'Moray',\n",
       "       'Aberdeen City', 'Dundee City', 'Angus', 'Perth and Kinross',\n",
       "       'Fife', 'East Lothian', 'Midlothian', 'Scottish Borders',\n",
       "       'Edinburgh, City of', 'West Lothian', 'Falkirk',\n",
       "       'Clackmannanshire', 'Stirling', 'Clackmannshire', 'Glasgow City',\n",
       "       'East Dunbartonshire', 'North Larkshire', 'North Lanarkshire',\n",
       "       'Renfrewshire', 'East Renfrewshire', 'East Ayrshire',\n",
       "       'South Larkshire', 'Inverclyde', 'West Dunbartonshire',\n",
       "       'Argyll and Bute', 'South Lanarkshire', 'North Ayrshire',\n",
       "       'South Ayrshire', 'Dumfries and Galloway', 'Cheshire East',\n",
       "       'Cheshire West and Chester', 'Northumberland', 'County Durham',\n",
       "       'Shropshire', 'Central Bedfordshire', 'Cornwall', 'Wiltshire'],\n",
       "      dtype=object)"
      ]
     },
     "execution_count": 16,
     "metadata": {},
     "output_type": "execute_result"
    }
   ],
   "source": [
    "areas = accident['District Area'].unique()\n",
    "areas"
   ]
  },
  {
   "cell_type": "code",
   "execution_count": 17,
   "id": "b6ab2327-4180-4f22-80d8-144a4351fd7f",
   "metadata": {},
   "outputs": [
    {
     "data": {
      "text/plain": [
       "District Area\n",
       "Birmingham            13491\n",
       "Leeds                  8898\n",
       "Manchester             6720\n",
       "Bradford               6212\n",
       "Sheffield              5710\n",
       "                      ...  \n",
       "Berwick-upon-Tweed      153\n",
       "Teesdale                142\n",
       "Shetland Islands        133\n",
       "Orkney Islands          117\n",
       "Clackmannanshire         91\n",
       "Name: count, Length: 422, dtype: int64"
      ]
     },
     "execution_count": 17,
     "metadata": {},
     "output_type": "execute_result"
    }
   ],
   "source": [
    "Dist_Areas = accident['District Area'].value_counts()\n",
    "Dist_Areas"
   ]
  },
  {
   "cell_type": "markdown",
   "id": "57629fa8-4d0c-45f8-8dd8-f9433e2e7b85",
   "metadata": {},
   "source": [
    "<h1>Insight # 13. It shows that Birmingham has the higher accident frequencies</h1>"
   ]
  },
  {
   "cell_type": "markdown",
   "id": "6b0ceef1-0da2-44c4-aa04-3e0c59813235",
   "metadata": {},
   "source": [
    "<h1>14. What is the correlation between latitude and longitude?</h1>"
   ]
  },
  {
   "cell_type": "code",
   "execution_count": 18,
   "id": "df1eeb5e-39f3-471c-b0a0-27188bb532a0",
   "metadata": {},
   "outputs": [
    {
     "data": {
      "text/plain": [
       "np.float64(-0.3981136594753895)"
      ]
     },
     "execution_count": 18,
     "metadata": {},
     "output_type": "execute_result"
    }
   ],
   "source": [
    "lat_lon_corr = accident['Latitude'].corr(accident['Longitude'])\n",
    "lat_lon_corr"
   ]
  },
  {
   "cell_type": "markdown",
   "id": "941a7deb-e70b-4e0f-ab3d-b3aa74c60b30",
   "metadata": {},
   "source": [
    "<h1>Insight # 14. It shows 0 it means there is no correlation Longitude and Latitude.</h1>"
   ]
  },
  {
   "cell_type": "markdown",
   "id": "c004a49d-0736-4c0c-a142-4440ab616ed5",
   "metadata": {},
   "source": [
    "<h1>15. What is the accident count trend over months?</h1>"
   ]
  },
  {
   "cell_type": "code",
   "execution_count": 19,
   "id": "3979fa6a-d040-4b56-b294-2d41213cee6b",
   "metadata": {},
   "outputs": [
    {
     "data": {
      "text/plain": [
       "Month\n",
       "11.0    24240\n",
       "12.0    24156\n",
       "10.0    23962\n",
       "7.0     22939\n",
       "9.0     22558\n",
       "2.0     22264\n",
       "6.0     22196\n",
       "3.0     21824\n",
       "5.0     21723\n",
       "8.0     21106\n",
       "4.0     19787\n",
       "1.0     18252\n",
       "Name: count, dtype: int64"
      ]
     },
     "execution_count": 19,
     "metadata": {},
     "output_type": "execute_result"
    }
   ],
   "source": [
    "accident['Month'] = accident['Accident Date'].dt.month\n",
    "month = accident['Month'].value_counts()\n",
    "month"
   ]
  },
  {
   "cell_type": "markdown",
   "id": "5dd63aa0-a986-4c8c-a181-409caf658552",
   "metadata": {},
   "source": [
    "<h1>Insight # 15. It Shows the number of accidents per month and 11th month or month of November has the highest number of accidents.</h1>"
   ]
  },
  {
   "cell_type": "markdown",
   "id": "21f7630d-9bdb-408c-9375-3830420104e8",
   "metadata": {},
   "source": [
    "<h1>16. What is the average number of vehicles involved in accidents in urban vs. rural areas?</h1>"
   ]
  },
  {
   "cell_type": "code",
   "execution_count": 20,
   "id": "551dc696-efd4-4825-8e73-79bf48ae468f",
   "metadata": {},
   "outputs": [
    {
     "data": {
      "text/plain": [
       "Urban_or_Rural_Area\n",
       "Rural          1.866312\n",
       "Unallocated    1.909091\n",
       "Urban          1.811394\n",
       "Name: Number_of_Vehicles, dtype: float64"
      ]
     },
     "execution_count": 20,
     "metadata": {},
     "output_type": "execute_result"
    }
   ],
   "source": [
    "avg_vehicle_ByArea = accident.groupby('Urban_or_Rural_Area')['Number_of_Vehicles'].mean()\n",
    "avg_vehicle_ByArea"
   ]
  },
  {
   "cell_type": "markdown",
   "id": "f2dfecbe-a65f-4ffc-bb76-060ed129f4a3",
   "metadata": {},
   "source": [
    "<h1>Insight # 16. It shows the average number of vehicles involved in accidents in urban and rural areas.</h1>"
   ]
  },
  {
   "cell_type": "markdown",
   "id": "118b1774-0ade-49d9-81a0-2e48ad3e4368",
   "metadata": {},
   "source": [
    "<h1>17. What is the distribution of light conditions for each accident severity level?</h1>"
   ]
  },
  {
   "cell_type": "code",
   "execution_count": 21,
   "id": "dcc7a0ba-a77a-4301-a168-377f3a42f425",
   "metadata": {},
   "outputs": [
    {
     "data": {
      "text/plain": [
       "Light_Conditions             Accident_Severity\n",
       "Darkness - lighting unknown  Fatal                    68\n",
       "                             Serious                 794\n",
       "                             Slight                 5622\n",
       "Darkness - lights lit        Fatal                  1860\n",
       "                             Serious               19130\n",
       "                             Slight               108345\n",
       "Darkness - lights unlit      Fatal                    45\n",
       "                             Serious                 360\n",
       "                             Slight                 2138\n",
       "Darkness - no lighting       Fatal                  1612\n",
       "                             Serious                7174\n",
       "                             Slight                28651\n",
       "Daylight                     Fatal                  5076\n",
       "                             Serious               60759\n",
       "                             Slight               419045\n",
       "dtype: int64"
      ]
     },
     "execution_count": 21,
     "metadata": {},
     "output_type": "execute_result"
    }
   ],
   "source": [
    "gr_counts = accident.groupby(['Light_Conditions','Accident_Severity']).size()\n",
    "gr_counts"
   ]
  },
  {
   "cell_type": "markdown",
   "id": "67cc14d4-ff65-4820-b3a2-c2c720dd385d",
   "metadata": {},
   "source": [
    "<h1>Insight # 17. It displays how accident severity is distributed across different light conditions.</h1>"
   ]
  },
  {
   "cell_type": "markdown",
   "id": "00d78695-421e-40f6-84da-f901a1b9971c",
   "metadata": {},
   "source": [
    "<h1>18. How does the average number of vehicles involved vary by weather condition?</h1>"
   ]
  },
  {
   "cell_type": "code",
   "execution_count": 22,
   "id": "9a75775d-5620-4e13-9476-f6eb13770f56",
   "metadata": {},
   "outputs": [
    {
     "data": {
      "text/plain": [
       "Weather_Conditions\n",
       "Fine + high winds        1.779401\n",
       "Fine no high winds       1.836809\n",
       "Fog or mist              1.807823\n",
       "Other                    1.777668\n",
       "Raining + high winds     1.777951\n",
       "Raining no high winds    1.831610\n",
       "Snowing + high winds     1.737853\n",
       "Snowing no high winds    1.754889\n",
       "Name: Number_of_Vehicles, dtype: float64"
      ]
     },
     "execution_count": 22,
     "metadata": {},
     "output_type": "execute_result"
    }
   ],
   "source": [
    "avg_vehicle_ByWeather = accident.groupby('Weather_Conditions')['Number_of_Vehicles'].mean()\n",
    "avg_vehicle_ByWeather"
   ]
  },
  {
   "cell_type": "markdown",
   "id": "3c168bc3-bdef-4c78-a504-f987025d68e7",
   "metadata": {},
   "source": [
    "<h1>Insight # 18. It Shows the average number of vehicles involved in accidents under different weather conditions.</h1>"
   ]
  },
  {
   "cell_type": "markdown",
   "id": "453f49e7-6fcc-4aef-b29c-278e40f5c95d",
   "metadata": {},
   "source": [
    "<h1>19. What is the distribution of accident severity by weather conditions?</h1>"
   ]
  },
  {
   "cell_type": "code",
   "execution_count": 23,
   "id": "2abc867a-873f-4cd6-977e-10c032be96c9",
   "metadata": {},
   "outputs": [
    {
     "data": {
      "text/plain": [
       "Weather_Conditions     Accident_Severity\n",
       "Fine + high winds      Fatal                   175\n",
       "                       Serious                1245\n",
       "                       Slight                 7134\n",
       "Fine no high winds     Fatal                  7100\n",
       "                       Serious               72046\n",
       "                       Slight               441739\n",
       "Fog or mist            Fatal                    82\n",
       "                       Serious                 483\n",
       "                       Slight                 2963\n",
       "Other                  Fatal                   165\n",
       "                       Serious                1801\n",
       "                       Slight                15184\n",
       "Raining + high winds   Fatal                   145\n",
       "                       Serious                1261\n",
       "                       Slight                 8209\n",
       "Raining no high winds  Fatal                   848\n",
       "                       Serious                9468\n",
       "                       Slight                69380\n",
       "Snowing + high winds   Fatal                     3\n",
       "                       Serious                 109\n",
       "                       Slight                  773\n",
       "Snowing no high winds  Fatal                    36\n",
       "                       Serious                 565\n",
       "                       Slight                 5637\n",
       "dtype: int64"
      ]
     },
     "execution_count": 23,
     "metadata": {},
     "output_type": "execute_result"
    }
   ],
   "source": [
    "group_counts = accident.groupby(['Weather_Conditions','Accident_Severity']).size()\n",
    "group_counts"
   ]
  },
  {
   "cell_type": "markdown",
   "id": "ddcfb392-2856-447f-abb7-360419642a06",
   "metadata": {},
   "source": [
    "<h1>Insight # 19. It Displays how accident severity is distributed across different weather conditions.</h1>"
   ]
  },
  {
   "cell_type": "markdown",
   "id": "e8471148-5729-4c90-90f8-9a74c6f58024",
   "metadata": {},
   "source": [
    "<h1>20. What are the most common vehicle types involved in accidents in urban areas?</h1>"
   ]
  },
  {
   "cell_type": "code",
   "execution_count": 24,
   "id": "243a0e5d-37a5-4a6f-a1f0-b308e114d9a3",
   "metadata": {},
   "outputs": [
    {
     "data": {
      "text/plain": [
       "Vehicle_Type\n",
       "Car                                      316053\n",
       "Van / Goods 3.5 tonnes mgw or under       22003\n",
       "Bus or coach (17 or more pass seats)      16850\n",
       "Motorcycle over 500cc                     16700\n",
       "Goods 7.5 tonnes mgw and over             11151\n",
       "Motorcycle 125cc and under                10246\n",
       "Taxi/Private hire car                      8612\n",
       "Motorcycle over 125cc and up to 500cc      4982\n",
       "Motorcycle 50cc and under                  4893\n",
       "Goods over 3.5t. and under 7.5t            3864\n",
       "Other vehicle                              3643\n",
       "Agricultural vehicle                       1272\n",
       "Minibus (8 - 16 passenger seats)           1258\n",
       "Pedal cycle                                 127\n",
       "Data missing or out of range                  6\n",
       "Ridden horse                                  3\n",
       "Name: count, dtype: int64"
      ]
     },
     "execution_count": 24,
     "metadata": {},
     "output_type": "execute_result"
    }
   ],
   "source": [
    "urban_accidents = accident[accident['Urban_or_Rural_Area'] == 'Urban']\n",
    "vehicle_urban = urban_accidents['Vehicle_Type'].value_counts()\n",
    "vehicle_urban"
   ]
  },
  {
   "cell_type": "markdown",
   "id": "53317f43-f106-4480-b16b-b09bf1b91b59",
   "metadata": {},
   "source": [
    "<h1>Insight # 20. In the lists car type of vehicle has the most accidents in urban areas.</h1>"
   ]
  },
  {
   "cell_type": "code",
   "execution_count": 39,
   "id": "d9470393-8d83-44f4-b835-e33231ed59a3",
   "metadata": {},
   "outputs": [],
   "source": [
    "import matplotlib.pyplot as plt"
   ]
  },
  {
   "cell_type": "markdown",
   "id": "d4bd7ea8-1be4-4952-a251-0144475307f1",
   "metadata": {},
   "source": [
    "<h1>21. How does the average number of casualties vary by road type? </h1>"
   ]
  },
  {
   "cell_type": "code",
   "execution_count": 40,
   "id": "e3dadd18-95b3-402e-a776-c750a0b3d52a",
   "metadata": {},
   "outputs": [
    {
     "data": {
      "image/png": "[encoded data removed]",
      "text/plain": [
       "<Figure size 640x480 with 1 Axes>"
      ]
     },
     "metadata": {},
     "output_type": "display_data"
    }
   ],
   "source": [
    "avg_casualties_ByRoad = accident.groupby('Road_Type')['Number_of_Casualties'].mean()\n",
    "avg_casualties_ByRoad.plot(kind='pie', autopct='%1.1f%%', startangle=90,ylabel='', title='Casualties per Year in Teesdale')\n",
    "plt.axis('equal') \n",
    "plt.show()"
   ]
  },
  {
   "cell_type": "markdown",
   "id": "5ac8a421-c26a-4f7d-b5b7-ff7c6dbe6e7c",
   "metadata": {},
   "source": [
    "<h1>Insight # 21. It shows the average number of casualties for each road type, indicating which road types are associated with more severe accidents.</h1>"
   ]
  },
  {
   "cell_type": "markdown",
   "id": "be3282b4-5acd-44dd-83af-a011d6a5d26c",
   "metadata": {},
   "source": [
    "<h1>22. How many accidents occur in the City of London each year??</h1>"
   ]
  },
  {
   "cell_type": "code",
   "execution_count": 48,
   "id": "4cec7551-1df6-462a-877f-5ad40a8c20c3",
   "metadata": {},
   "outputs": [
    {
     "data": {
      "image/png": "[encoded data removed]",
      "text/plain": [
       "<Figure size 500x300 with 1 Axes>"
      ]
     },
     "metadata": {},
     "output_type": "display_data"
    }
   ],
   "source": [
    "city_df = accident[accident['District Area'] == 'City of London']\n",
    "city_df['Year'] = accident['Accident Date'].dt.year\n",
    "accidents_per_year = city_df.groupby('Year').size()\n",
    "\n",
    "plt.figure(figsize=(5, 3))\n",
    "plt.bar(accidents_per_year.index, accidents_per_year.values, color='skyblue')\n",
    "\n",
    "plt.xticks(accidents_per_year.index, rotation=45)\n",
    "plt.xlabel('Year')\n",
    "plt.ylabel('Number of Accidents')\n",
    "plt.title('Number of Accidents per Year in City of London')\n",
    "plt.tight_layout()\n",
    "plt.show()"
   ]
  },
  {
   "cell_type": "markdown",
   "id": "d35d67d9-f3f4-4b8a-8caa-1ed166876f22",
   "metadata": {},
   "source": [
    "<h1>Insight # 22. It shows the accident in City of London Every Year.</h1>"
   ]
  },
  {
   "cell_type": "markdown",
   "id": "76120dd3-24eb-4290-86e6-61bc42bf0278",
   "metadata": {},
   "source": [
    "<h1>23. what type of vehicle has the highest number in accident in district area of Clackmannanshire?</h1>"
   ]
  },
  {
   "cell_type": "code",
   "execution_count": 49,
   "id": "9786fbfa-933b-4fd9-8e2d-39a740b82be8",
   "metadata": {},
   "outputs": [
    {
     "data": {
      "image/png": "[encoded data removed]",
      "text/plain": [
       "<Figure size 700x400 with 1 Axes>"
      ]
     },
     "metadata": {},
     "output_type": "display_data"
    }
   ],
   "source": [
    "clack_df = accident[accident['District Area'] == 'Clackmannanshire']\n",
    "vehicle_type = clack_df['Vehicle_Type'].value_counts()\n",
    "vehicle_type\n",
    "\n",
    "plt.figure(figsize=(7,4))\n",
    "vehicle_type.plot(kind='bar', color='skyblue', edgecolor='black')\n",
    "\n",
    "plt.title('Accidents by Vehicle Type – Clackmannanshire')\n",
    "plt.xlabel('Vehicle Type')\n",
    "plt.ylabel('Number of Accidents')\n",
    "plt.xticks(rotation=45)\n",
    "plt.tight_layout()\n",
    "plt.show()"
   ]
  },
  {
   "cell_type": "markdown",
   "id": "86524c7a-1c11-465c-8098-4c47e450d829",
   "metadata": {},
   "source": [
    "<h1>Insight 23. It shows here that the ype of vehicle has the highest number in accident in district area of Clackmannanshire </h1>"
   ]
  },
  {
   "cell_type": "markdown",
   "id": "4227dd17-ec5f-457c-9047-4e08574f3c26",
   "metadata": {},
   "source": [
    "<h1>24. What Year has the lowest record of accident in Manchester?</h1>"
   ]
  },
  {
   "cell_type": "code",
   "execution_count": 43,
   "id": "5dd7989f-dcf0-4c94-ab7e-76ab0c102568",
   "metadata": {},
   "outputs": [
    {
     "data": {
      "image/png": "[encoded data removed]",
      "text/plain": [
       "<Figure size 500x300 with 1 Axes>"
      ]
     },
     "metadata": {},
     "output_type": "display_data"
    }
   ],
   "source": [
    "district = accident[accident['District Area'] == 'Manchester']\n",
    "district['Year'] = district['Accident Date'].dt.year\n",
    "accidents_per_year = district.groupby('Year').size()\n",
    "\n",
    "plt.figure(figsize=(5, 3))\n",
    "plt.bar(accidents_per_year.index, accidents_per_year.values, color='skyblue')\n",
    "\n",
    "plt.xticks(accidents_per_year.index, rotation=45)\n",
    "plt.xlabel('Year')\n",
    "plt.ylabel('Number of Accidents')\n",
    "plt.title('Number of Accidents per Year in Manchester')\n",
    "plt.tight_layout()\n",
    "plt.show()\n"
   ]
  },
  {
   "cell_type": "markdown",
   "id": "bf054bc1-665c-4505-a9e8-e5af80e58d5f",
   "metadata": {},
   "source": [
    "<h1>Insight # 24. It shows here the year 2022 has the lowest record of accident in Manchester witht the number 555.</h1>"
   ]
  },
  {
   "cell_type": "markdown",
   "id": "e9a83c78-5ac7-408a-8f92-e1bdb0a64668",
   "metadata": {},
   "source": [
    "<hr>\n",
    "<h1>25. What year has the highest number of casualties in Teesdale?</h1>"
   ]
  },
  {
   "cell_type": "code",
   "execution_count": 44,
   "id": "77063e60-06fe-496d-a940-6e9d675359eb",
   "metadata": {},
   "outputs": [
    {
     "data": {
      "image/png": "[encoded data removed]",
      "text/plain": [
       "<Figure size 640x480 with 1 Axes>"
      ]
     },
     "metadata": {},
     "output_type": "display_data"
    }
   ],
   "source": [
    "import matplotlib.pyplot as plt\n",
    "\n",
    "teesdale_df = accident[accident['District Area'] == 'Teesdale']\n",
    "teesdale_df['Year'] = teesdale_df['Accident Date'].dt.year\n",
    "casualties_per_year = teesdale_df.groupby('Year')['Number_of_Casualties'].sum()\n",
    "\n",
    "casualties_per_year.plot(kind='pie', autopct='%1.1f%%', startangle=90,ylabel='', title='Casualties per Year in Teesdale')\n",
    "plt.axis('equal') \n",
    "plt.show()\n"
   ]
  },
  {
   "cell_type": "markdown",
   "id": "1e83437d-b2f7-4875-b58a-0b88672c16aa",
   "metadata": {},
   "source": [
    "<h1>Insight # 25. It shows here the number of casualties in Teesdale in 3 years and 2019 has the highest number of casualties</h1>"
   ]
  },
  {
   "cell_type": "code",
   "execution_count": null,
   "id": "c25f7c7a-04f8-4bfc-ae00-d4b3f90aa2bf",
   "metadata": {},
   "outputs": [],
   "source": []
  }
 ],
 "metadata": {
  "kernelspec": {
   "display_name": "Python 3 (ipykernel)",
   "language": "python",
   "name": "python3"
  },
  "language_info": {
   "codemirror_mode": {
    "name": "ipython",
    "version": 3
   },
   "file_extension": ".py",
   "mimetype": "text/x-python",
   "name": "python",
   "nbconvert_exporter": "python",
   "pygments_lexer": "ipython3",
   "version": "3.13.7"
  }
 },
 "nbformat": 4,
 "nbformat_minor": 5
}
